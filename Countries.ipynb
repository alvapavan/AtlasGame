{
 "cells": [
  {
   "cell_type": "code",
   "execution_count": 1,
   "metadata": {},
   "outputs": [],
   "source": [
    "import pandas as pd\n",
    "import matplotlib.pyplot as plt\n",
    "import seaborn as sns\n",
    "import sys\n",
    "import random"
   ]
  },
  {
   "cell_type": "code",
   "execution_count": 2,
   "metadata": {},
   "outputs": [
    {
     "data": {
      "text/html": [
       "<div>\n",
       "<style scoped>\n",
       "    .dataframe tbody tr th:only-of-type {\n",
       "        vertical-align: middle;\n",
       "    }\n",
       "\n",
       "    .dataframe tbody tr th {\n",
       "        vertical-align: top;\n",
       "    }\n",
       "\n",
       "    .dataframe thead th {\n",
       "        text-align: right;\n",
       "    }\n",
       "</style>\n",
       "<table border=\"1\" class=\"dataframe\">\n",
       "  <thead>\n",
       "    <tr style=\"text-align: right;\">\n",
       "      <th></th>\n",
       "      <th>place</th>\n",
       "    </tr>\n",
       "  </thead>\n",
       "  <tbody>\n",
       "    <tr>\n",
       "      <th>0</th>\n",
       "      <td>Abkhazia</td>\n",
       "    </tr>\n",
       "    <tr>\n",
       "      <th>1</th>\n",
       "      <td>Afghanistan</td>\n",
       "    </tr>\n",
       "    <tr>\n",
       "      <th>2</th>\n",
       "      <td>Akrotiri and Dhekelia</td>\n",
       "    </tr>\n",
       "    <tr>\n",
       "      <th>3</th>\n",
       "      <td>Albania</td>\n",
       "    </tr>\n",
       "    <tr>\n",
       "      <th>4</th>\n",
       "      <td>Algeria</td>\n",
       "    </tr>\n",
       "  </tbody>\n",
       "</table>\n",
       "</div>"
      ],
      "text/plain": [
       "                   place\n",
       "0               Abkhazia\n",
       "1            Afghanistan\n",
       "2  Akrotiri and Dhekelia\n",
       "3                Albania\n",
       "4                Algeria"
      ]
     },
     "execution_count": 2,
     "metadata": {},
     "output_type": "execute_result"
    }
   ],
   "source": [
    "data = pd.read_csv('country-list.csv')\n",
    "data.head()"
   ]
  },
  {
   "cell_type": "code",
   "execution_count": 3,
   "metadata": {},
   "outputs": [
    {
     "name": "stdout",
     "output_type": "stream",
     "text": [
      "place\n"
     ]
    }
   ],
   "source": [
    "for col in data.columns:\n",
    "    print(col)"
   ]
  },
  {
   "cell_type": "code",
   "execution_count": 4,
   "metadata": {},
   "outputs": [
    {
     "data": {
      "text/html": [
       "<div>\n",
       "<style scoped>\n",
       "    .dataframe tbody tr th:only-of-type {\n",
       "        vertical-align: middle;\n",
       "    }\n",
       "\n",
       "    .dataframe tbody tr th {\n",
       "        vertical-align: top;\n",
       "    }\n",
       "\n",
       "    .dataframe thead th {\n",
       "        text-align: right;\n",
       "    }\n",
       "</style>\n",
       "<table border=\"1\" class=\"dataframe\">\n",
       "  <thead>\n",
       "    <tr style=\"text-align: right;\">\n",
       "      <th></th>\n",
       "      <th>place</th>\n",
       "      <th>Start</th>\n",
       "      <th>End</th>\n",
       "    </tr>\n",
       "  </thead>\n",
       "  <tbody>\n",
       "    <tr>\n",
       "      <th>0</th>\n",
       "      <td>Abkhazia</td>\n",
       "      <td>A</td>\n",
       "      <td>A</td>\n",
       "    </tr>\n",
       "    <tr>\n",
       "      <th>1</th>\n",
       "      <td>Afghanistan</td>\n",
       "      <td>A</td>\n",
       "      <td>N</td>\n",
       "    </tr>\n",
       "    <tr>\n",
       "      <th>2</th>\n",
       "      <td>Akrotiri and Dhekelia</td>\n",
       "      <td>A</td>\n",
       "      <td>A</td>\n",
       "    </tr>\n",
       "    <tr>\n",
       "      <th>3</th>\n",
       "      <td>Albania</td>\n",
       "      <td>A</td>\n",
       "      <td>A</td>\n",
       "    </tr>\n",
       "    <tr>\n",
       "      <th>4</th>\n",
       "      <td>Algeria</td>\n",
       "      <td>A</td>\n",
       "      <td>A</td>\n",
       "    </tr>\n",
       "  </tbody>\n",
       "</table>\n",
       "</div>"
      ],
      "text/plain": [
       "                   place Start End\n",
       "0               Abkhazia     A   A\n",
       "1            Afghanistan     A   N\n",
       "2  Akrotiri and Dhekelia     A   A\n",
       "3                Albania     A   A\n",
       "4                Algeria     A   A"
      ]
     },
     "execution_count": 4,
     "metadata": {},
     "output_type": "execute_result"
    }
   ],
   "source": [
    "data['Start'] = data['place'].apply(lambda x : str(x)[0])\n",
    "data['End'] = data['place'].apply(lambda x : str(x)[-1])\n",
    "data['End'] = data['End'].str.capitalize()\n",
    "data.head()"
   ]
  },
  {
   "cell_type": "code",
   "execution_count": 5,
   "metadata": {},
   "outputs": [
    {
     "data": {
      "text/plain": [
       "place    496\n",
       "Start    496\n",
       "End      496\n",
       "dtype: int64"
      ]
     },
     "execution_count": 5,
     "metadata": {},
     "output_type": "execute_result"
    }
   ],
   "source": [
    "data.count()"
   ]
  },
  {
   "cell_type": "code",
   "execution_count": 6,
   "metadata": {},
   "outputs": [
    {
     "name": "stdout",
     "output_type": "stream",
     "text": [
      "S    62\n",
      "B    47\n",
      "M    40\n",
      "A    36\n",
      "P    33\n",
      "C    32\n",
      "T    30\n",
      "N    29\n",
      "G    23\n",
      "L    20\n",
      "K    18\n",
      "D    15\n",
      "E    13\n",
      "H    12\n",
      "V    11\n",
      "F    11\n",
      "R    11\n",
      "U    10\n",
      "I    10\n",
      "J     9\n",
      "W     9\n",
      "O     5\n",
      "Y     5\n",
      "Z     3\n",
      "Q     2\n",
      "Name: Start, dtype: int64\n"
     ]
    },
    {
     "data": {
      "text/plain": [
       "A    145\n",
       "N     63\n",
       "S     46\n",
       "E     42\n",
       "O     33\n",
       "D     25\n",
       "I     25\n",
       "Y     21\n",
       "U     17\n",
       "T     16\n",
       "R     15\n",
       "L      9\n",
       "M      8\n",
       "K      7\n",
       "C      5\n",
       "H      5\n",
       "G      5\n",
       "W      3\n",
       "Z      2\n",
       "Q      1\n",
       "B      1\n",
       "V      1\n",
       "F      1\n",
       "Name: End, dtype: int64"
      ]
     },
     "execution_count": 6,
     "metadata": {},
     "output_type": "execute_result"
    }
   ],
   "source": [
    "print(data['Start'].value_counts())\n",
    "data['End'].value_counts()"
   ]
  },
  {
   "cell_type": "code",
   "execution_count": 7,
   "metadata": {},
   "outputs": [
    {
     "data": {
      "text/plain": [
       "<AxesSubplot: xlabel='Start', ylabel='Count'>"
      ]
     },
     "execution_count": 7,
     "metadata": {},
     "output_type": "execute_result"
    },
    {
     "data": {
      "image/png": "[encoded data removed]",
      "text/plain": [
       "<Figure size 640x480 with 1 Axes>"
      ]
     },
     "metadata": {},
     "output_type": "display_data"
    }
   ],
   "source": [
    "sns.histplot(data = data,x = data['Start'], legend = \"Num\")\n",
    "sns.histplot(data = data, x = data['End'], legend = \"Num\")"
   ]
  },
  {
   "cell_type": "code",
   "execution_count": 8,
   "metadata": {},
   "outputs": [
    {
     "data": {
      "text/plain": [
       "Start\n",
       "S    9\n",
       "B    8\n",
       "T    6\n",
       "A    5\n",
       "G    5\n",
       "K    5\n",
       "L    4\n",
       "C    3\n",
       "J    3\n",
       "Y    3\n",
       "I    2\n",
       "P    2\n",
       "D    1\n",
       "E    1\n",
       "F    1\n",
       "H    1\n",
       "O    1\n",
       "R    1\n",
       "U    1\n",
       "W    1\n",
       "Name: Start, dtype: int64"
      ]
     },
     "execution_count": 8,
     "metadata": {},
     "output_type": "execute_result"
    }
   ],
   "source": [
    "data['Start'].groupby(data['End'] == \"N\").value_counts()[True]"
   ]
  },
  {
   "cell_type": "code",
   "execution_count": 9,
   "metadata": {},
   "outputs": [
    {
     "data": {
      "text/plain": [
       "End\n",
       "A    4\n",
       "E    1\n",
       "H    1\n",
       "K    1\n",
       "N    1\n",
       "O    1\n",
       "T    1\n",
       "U    1\n",
       "Name: End, dtype: int64"
      ]
     },
     "execution_count": 9,
     "metadata": {},
     "output_type": "execute_result"
    }
   ],
   "source": [
    "data['End'].groupby(data['Start'] == 'R').value_counts()[True]"
   ]
  },
  {
   "cell_type": "code",
   "execution_count": 10,
   "metadata": {},
   "outputs": [
    {
     "data": {
      "text/plain": [
       "62"
      ]
     },
     "execution_count": 10,
     "metadata": {},
     "output_type": "execute_result"
    }
   ],
   "source": [
    "death = ['A', 'D', 'E', 'I', 'N', 'O', 'R', 'U', 'Y']\n",
    "a = []\n",
    "\n",
    "a =  (data['Start'] == 'S').value_counts()\n",
    "a[True]\n"
   ]
  },
  {
   "cell_type": "code",
   "execution_count": 11,
   "metadata": {},
   "outputs": [],
   "source": [
    "def oppn_word(word):\n",
    "  global data\n",
    "  oppn = input(\"Enter the place\\n\")\n",
    "    \n",
    "  if oppn in set(data['place']) and oppn[0].capitalize() == word:\n",
    "     data = data[data['place'].str.contains(oppn) == False]\n",
    "     print(oppn)\n",
    "     my_turn = True\n",
    "  else:\n",
    "     print(\"The place doesn't exist. Try again\") \n",
    "     my_turn = False\n",
    "\n",
    "  return oppn, my_turn\n",
    "  \n"
   ]
  },
  {
   "cell_type": "code",
   "execution_count": 17,
   "metadata": {},
   "outputs": [],
   "source": [
    "def my_word(oppn, game_on):\n",
    "\n",
    "    global data\n",
    "    word = 'a'\n",
    "    arr = set()\n",
    "    arr2 = []\n",
    "    arr3 = set()\n",
    "    pl = []\n",
    "    num = sys.maxsize\n",
    "    indi = []\n",
    "    count = []\n",
    "    ind = 0\n",
    "    arr_list2 = []\n",
    "    \n",
    "    x = oppn[-1].capitalize()\n",
    "\n",
    "    print((data['Start'] == x).value_counts().get(True, 0))\n",
    "\n",
    "    if not (data['Start'] == x).value_counts().empty and not (data['Start'] == x).value_counts().get(True, 0):\n",
    "       print(\"You Won! Congratulations!!\")\n",
    "       return '', game_on == False\n",
    "\n",
    "    for idx, row in data.iterrows():\n",
    "        if row['Start'] == x:\n",
    "            arr.add(row['End'])\n",
    "            pl.append(row['place'])\n",
    "    \n",
    "    arr_list = list(arr)\n",
    "    print(pl)\n",
    "    print(arr)\n",
    "    print(arr_list)\n",
    "    for i in arr:\n",
    "        for idx, row in data.iterrows():\n",
    "            if row['Start'] == i:\n",
    "                arr3.add(row['End'])\n",
    "        arr2.append(arr3)\n",
    "        arr3 = set()\n",
    "    \n",
    "    print(arr2)\n",
    "    for i, sublist in enumerate(arr2):\n",
    "        if num != sys.maxsize:\n",
    "            count.append(num)\n",
    "            num = sys.maxsize\n",
    "        for j in sublist:\n",
    "            if j in death:\n",
    "                #count.append((data['Start'] == j).value_counts()[True])\n",
    "                if not (data['Start'] == j).value_counts().empty and (data['Start'] == j).value_counts().get(True):\n",
    "                  num = min(num, (data['Start'] == j).value_counts()[True])\n",
    "                  if j == arr_list[i]:\n",
    "                     num = num - 1\n",
    "                #count.append((data['Start'] == j).sum())\n",
    "                #arr_list2.append(j)\n",
    "        #indi.append(num.index(arr2))\n",
    "    count.append(num)\n",
    "    print(count)\n",
    "    curr = max(count)\n",
    "    print(curr)\n",
    "    for index, value in enumerate(count):\n",
    "      if value == curr and arr_list[index] in death:\n",
    "         indi.append((data['Start'] == arr_list[index]).value_counts()[True])\n",
    "         arr_list2.append(arr_list[index])\n",
    "\n",
    "    if indi:\n",
    "     print(indi)\n",
    "     print(arr_list2)\n",
    "     indi2 = max(indi)\n",
    "     ind = indi.index(indi2)\n",
    "     print(arr_list2[ind])\n",
    "     print(indi2)\n",
    "     print(ind)\n",
    "     #if count:\n",
    "     # curr = max(count)\n",
    "     #\n",
    "     #print(indi)\n",
    "     #\n",
    "     print(arr)\n",
    "     print(pl)\n",
    "     print(arr2)\n",
    "     print(count)\n",
    "\n",
    "     for i in pl:\n",
    "        if i[-1].capitalize() == arr_list2[ind]:\n",
    "            print(i)\n",
    "            data = data[data['place'].str.contains(i) == False]\n",
    "            return arr_list2[ind], game_on\n",
    "    else:\n",
    "      for index, value in enumerate(count):\n",
    "         if value == curr:\n",
    "            for i in pl:\n",
    "               if i[-1].capitalize() == arr_list[index]:\n",
    "                 print(i)\n",
    "                 data = data[data['place'].str.contains(i) == False]\n",
    "                 return arr_list[index], game_on\n",
    "                 \n",
    "    game_on = False\n",
    "    return ' ', game_on \n",
    "    \n",
    "    #print(num)\n",
    "    \n"
   ]
  },
  {
   "cell_type": "code",
   "execution_count": 18,
   "metadata": {},
   "outputs": [
    {
     "name": "stdout",
     "output_type": "stream",
     "text": [
      "San Marino\n",
      "O\n",
      "Oman\n",
      "23\n",
      "['Nagorno-Karabakh Republic', 'Nauru', 'Nepal', 'Netherlands', 'New Zealand', 'Nicaragua', 'Niger', 'Norfolk Island', 'North Korea', 'Northern Cyprus', 'Northern Mariana Islands', 'Nassau', \"N'Djamena\", 'Nicosia', 'Nuuk', 'New Delhi', 'Nairobi', 'Nouakchott', 'Nouméa', 'Niamey', 'Nicosia', 'Ngerulmud', 'Nukuʻalofa']\n",
      "{'Y', 'I', 'D', 'T', 'A', 'S', 'C', 'R', 'L', 'U', 'K'}\n",
      "['Y', 'I', 'D', 'T', 'A', 'S', 'C', 'R', 'L', 'U', 'K']\n",
      "[{'N', 'O'}, {'N', 'D', 'Q', 'Y', 'L'}, {'N', 'A', 'E', 'S', 'C', 'R', 'O', 'I'}, {'N', 'I', 'D', 'T', 'A', 'S', 'Y', 'L', 'O', 'U'}, set(), {'N', 'M', 'D', 'T', 'A', 'E', 'S', 'R', 'Y', 'L', 'O', 'I'}, {'N', 'F', 'D', 'A', 'E', 'S', 'C', 'Y', 'O', 'U'}, {'N', 'H', 'T', 'A', 'O', 'U', 'K'}, {'N', 'G', 'Z', 'A', 'E', 'S', 'O'}, {'N', 'D', 'A', 'E', 'S', 'R', 'Y'}, {'N', 'M', 'V', 'U', 'T', 'A', 'R', 'Y', 'L', 'O', 'I'}]\n",
      "[3, 4, 3, 3, 3, 3, 3, 3, 4, 3]\n",
      "4\n",
      "[7]\n",
      "['I']\n",
      "I\n",
      "7\n",
      "0\n",
      "{'Y', 'I', 'D', 'T', 'A', 'S', 'C', 'R', 'L', 'U', 'K'}\n",
      "['Nagorno-Karabakh Republic', 'Nauru', 'Nepal', 'Netherlands', 'New Zealand', 'Nicaragua', 'Niger', 'Norfolk Island', 'North Korea', 'Northern Cyprus', 'Northern Mariana Islands', 'Nassau', \"N'Djamena\", 'Nicosia', 'Nuuk', 'New Delhi', 'Nairobi', 'Nouakchott', 'Nouméa', 'Niamey', 'Nicosia', 'Ngerulmud', 'Nukuʻalofa']\n",
      "[{'N', 'O'}, {'N', 'D', 'Q', 'Y', 'L'}, {'N', 'A', 'E', 'S', 'C', 'R', 'O', 'I'}, {'N', 'I', 'D', 'T', 'A', 'S', 'Y', 'L', 'O', 'U'}, set(), {'N', 'M', 'D', 'T', 'A', 'E', 'S', 'R', 'Y', 'L', 'O', 'I'}, {'N', 'F', 'D', 'A', 'E', 'S', 'C', 'Y', 'O', 'U'}, {'N', 'H', 'T', 'A', 'O', 'U', 'K'}, {'N', 'G', 'Z', 'A', 'E', 'S', 'O'}, {'N', 'D', 'A', 'E', 'S', 'R', 'Y'}, {'N', 'M', 'V', 'U', 'T', 'A', 'R', 'Y', 'L', 'O', 'I'}]\n",
      "[3, 4, 3, 3, 3, 3, 3, 3, 4, 3]\n",
      "New Delhi\n",
      "7\n",
      "The place doesn't exist. Try again\n",
      "Iraq\n",
      "2\n",
      "['Qatar', 'Quito']\n",
      "{'O', 'R'}\n",
      "['O', 'R']\n",
      "[{'O', 'U', 'D'}, {'N', 'H', 'T', 'A', 'O', 'U', 'K'}]\n",
      "[2, 3]\n",
      "3\n",
      "[7]\n",
      "['R']\n",
      "R\n",
      "7\n",
      "0\n",
      "{'O', 'R'}\n",
      "['Qatar', 'Quito']\n",
      "[{'O', 'U', 'D'}, {'N', 'H', 'T', 'A', 'O', 'U', 'K'}]\n",
      "[2, 3]\n",
      "Qatar\n",
      "7\n",
      "The place doesn't exist. Try again\n",
      "Riga\n",
      "0\n",
      "You Won! Congratulations!!\n",
      "Game Over\n"
     ]
    }
   ],
   "source": [
    "game_on = True\n",
    "my_turn = False\n",
    "place = random.choice(data['place'])\n",
    "print(place)\n",
    "word = place[-1].capitalize()\n",
    "print(word)\n",
    "\n",
    "while game_on == True:\n",
    " \n",
    " if my_turn == False:\n",
    "   #oppon, my_turn = oppn_word(word)\n",
    "   \n",
    "  oppn = input(\"Enter the place\\n\")\n",
    "\n",
    "  if oppn in set(data['place']) and oppn[0].capitalize() == word:\n",
    "     data = data[data['place'].str.contains(oppn) == False]\n",
    "     print(oppn)  \n",
    "     my_turn = True\n",
    "  else:\n",
    "    print(\"The place doesn't exist or have been played before. Try again\") \n",
    "\n",
    " if my_turn == True:\n",
    "   result =  my_word(oppn, game_on)\n",
    "   word = result[0]\n",
    "   game_on = result[1]\n",
    "\n",
    "   if not game_on:\n",
    "     print(\"Game Over\")\n",
    "     break\n",
    "   \n",
    "   print((data['Start'] == word[0].capitalize()).value_counts()[True])\n",
    "   #print(word)\n",
    "   my_turn = False\n",
    "\n",
    "\n",
    "    "
   ]
  },
  {
   "cell_type": "code",
   "execution_count": null,
   "metadata": {},
   "outputs": [],
   "source": []
  }
 ],
 "metadata": {
  "kernelspec": {
   "display_name": "Python 3 (ipykernel)",
   "language": "python",
   "name": "python3"
  },
  "language_info": {
   "codemirror_mode": {
    "name": "ipython",
    "version": 3
   },
   "file_extension": ".py",
   "mimetype": "text/x-python",
   "name": "python",
   "nbconvert_exporter": "python",
   "pygments_lexer": "ipython3",
   "version": "3.10.9"
  }
 },
 "nbformat": 4,
 "nbformat_minor": 2
}
